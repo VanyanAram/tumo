{
 "cells": [
  {
   "cell_type": "code",
   "execution_count": 15,
   "metadata": {
    "collapsed": false
   },
   "outputs": [
    {
     "name": "stdout",
     "output_type": "stream",
     "text": [
      "126 Lilo  12.5 8.2 7.1 3.2\n",
      "456 Steve 4.0 10.4 6.5 2.7 12\n",
      "789 Janne 6.0 8.0 8.0 8.5 7.5\n",
      "\n"
     ]
    }
   ],
   "source": [
    "f=open(\"data.txt\")\n",
    "s=f.read()\n",
    "s\n",
    "print(s)"
   ]
  },
  {
   "cell_type": "code",
   "execution_count": 17,
   "metadata": {
    "collapsed": true
   },
   "outputs": [],
   "source": [
    "def numWords(filename):\n",
    "    '''returns the number of words in file   \n",
    "    filename'''\n",
    "\n",
    "    infile = open(filename)\n",
    "    content = infile.read()\n",
    "    infile.close()\n",
    "    wordList = content.split()\n",
    "   \n",
    "    return len(wordList)"
   ]
  },
  {
   "cell_type": "code",
   "execution_count": 18,
   "metadata": {
    "collapsed": false
   },
   "outputs": [
    {
     "data": {
      "text/plain": [
       "20"
      ]
     },
     "execution_count": 18,
     "metadata": {},
     "output_type": "execute_result"
    }
   ],
   "source": [
    "numWords(\"data.txt\")"
   ]
  },
  {
   "cell_type": "code",
   "execution_count": 22,
   "metadata": {
    "collapsed": false
   },
   "outputs": [
    {
     "name": "stdout",
     "output_type": "stream",
     "text": [
      "126 Lilo  12.5 8.2 7.1 3.2\n",
      "456 Steve 4.0 10.4 6.5 2.7 12\n",
      "789 Janne 6.0 8.0 8.0 8.5 7.5\n"
     ]
    }
   ],
   "source": [
    "input = open(\"data.txt\")\n",
    "for line in input:\n",
    "\tprint(line.strip()) \n",
    "input.close()"
   ]
  },
  {
   "cell_type": "code",
   "execution_count": 32,
   "metadata": {
    "collapsed": false,
    "deletable": true,
    "editable": true
   },
   "outputs": [
    {
     "name": "stdout",
     "output_type": "stream",
     "text": [
      "126 Lilo  12.5 8.2 7.1 3.2\n",
      "456 Steve 4.0 10.4 6.5 2.7 12\n",
      "789 Janne 6.0 8.0 8.0 8.5 7.5\n",
      "\n"
     ]
    }
   ],
   "source": [
    "w= open(\"test.txt\",\"w\")\n",
    "w.write(\"this is gango\")\n",
    "w.write('The end')\n",
    "w.close()\n",
    "\n",
    "f=open(\"data.txt\")\n",
    "s=f.read()\n",
    "s\n",
    "print(s)"
   ]
  },
  {
   "cell_type": "code",
   "execution_count": 42,
   "metadata": {
    "collapsed": false,
    "deletable": true,
    "editable": true
   },
   "outputs": [],
   "source": [
    "with open(\"test.txt\",\"w\") as f:\n",
    "    f.write(\"this is gango\")\n",
    "\n"
   ]
  },
  {
   "cell_type": "code",
   "execution_count": null,
   "metadata": {
    "collapsed": true
   },
   "outputs": [],
   "source": []
  },
  {
   "cell_type": "code",
   "execution_count": null,
   "metadata": {
    "collapsed": true
   },
   "outputs": [],
   "source": []
  }
 ],
 "metadata": {
  "kernelspec": {
   "display_name": "Python 3",
   "language": "python",
   "name": "python3"
  },
  "language_info": {
   "codemirror_mode": {
    "name": "ipython",
    "version": 3
   },
   "file_extension": ".py",
   "mimetype": "text/x-python",
   "name": "python",
   "nbconvert_exporter": "python",
   "pygments_lexer": "ipython3",
   "version": "3.6.0"
  }
 },
 "nbformat": 4,
 "nbformat_minor": 2
}
